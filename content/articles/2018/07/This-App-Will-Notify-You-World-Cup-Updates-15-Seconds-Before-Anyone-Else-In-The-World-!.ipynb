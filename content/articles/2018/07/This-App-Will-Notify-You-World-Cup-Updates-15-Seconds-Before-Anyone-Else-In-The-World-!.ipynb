{
 "cells": [
  {
   "cell_type": "markdown",
   "metadata": {},
   "source": [
    "Here we are ! FIFA World Cup is under way in Russia. This is high time to get notifications in your devices fast as possible. I was trying all the apps I know. Most of them are good at notifying the goal updates as fast your TV. But I found one app. This app will put you ahead of the television live telecasts. "
   ]
  },
  {
   "cell_type": "code",
   "execution_count": null,
   "metadata": {},
   "outputs": [],
   "source": []
  }
 ],
 "metadata": {
  "kernelspec": {
   "display_name": "Python 3",
   "language": "python",
   "name": "python3"
  },
  "language_info": {
   "codemirror_mode": {
    "name": "ipython",
    "version": 3
   },
   "file_extension": ".py",
   "mimetype": "text/x-python",
   "name": "python",
   "nbconvert_exporter": "python",
   "pygments_lexer": "ipython3",
   "version": "3.6.4"
  }
 },
 "nbformat": 4,
 "nbformat_minor": 2
}
